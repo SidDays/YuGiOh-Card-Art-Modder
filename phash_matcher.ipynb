{
 "cells": [
  {
   "cell_type": "markdown",
   "metadata": {},
   "source": [
    "# 🎴 Yu-Gi-Oh! PPSSPP Texture Mapper\n",
    "\n",
    "This notebook automates the creation of a `textures.ini` file for PPSSPP.\n",
    "\n",
    "It works by comparing a folder of **hashed, low-quality (LQ) English textures (Set A)** with a folder of **cleanly-named, LQ Japanese textures (Set C)**.\n",
    "\n",
    "It uses **perceptual hashing on a cropped 78x60 region** of each image to find matches. It then generates the `.ini` file that maps your Set A hashes to the clean filenames, which you can then use with your **high-quality (HQ) replacement textures (Set B)**.\n",
    "\n",
    "### Workflow:\n",
    "1.  **Setup:** Install required libraries.\n",
    "2.  **Configuration:** Set your folder paths.\n",
    "3.  **Run Cell 1:** Build the hash database from Set C (with caching).\n",
    "4.  **Run Cell 2:** Find all matches by comparing Set A to the database.\n",
    "5.  **Run Cell 3 & 4:** Visualize and spot-check the matches to confirm accuracy.\n",
    "6.  **Run Cell 5:** Write the final `textures.ini` file."
   ]
  },
  {
   "cell_type": "code",
   "execution_count": 1,
   "metadata": {},
   "outputs": [
    {
     "name": "stdout",
     "output_type": "stream",
     "text": [
      "Requirement already satisfied: imagehash in c:\\users\\siddh\\appdata\\local\\programs\\python\\python311\\lib\\site-packages (4.3.2)\n",
      "Requirement already satisfied: Pillow in c:\\users\\siddh\\appdata\\local\\programs\\python\\python311\\lib\\site-packages (10.4.0)\n",
      "Requirement already satisfied: matplotlib in c:\\users\\siddh\\appdata\\local\\programs\\python\\python311\\lib\\site-packages (3.10.1)\n",
      "Requirement already satisfied: PyWavelets in c:\\users\\siddh\\appdata\\local\\programs\\python\\python311\\lib\\site-packages (from imagehash) (1.4.1)\n",
      "Requirement already satisfied: numpy in c:\\users\\siddh\\appdata\\local\\programs\\python\\python311\\lib\\site-packages (from imagehash) (2.3.2)\n",
      "Requirement already satisfied: scipy in c:\\users\\siddh\\appdata\\local\\programs\\python\\python311\\lib\\site-packages (from imagehash) (1.15.2)\n",
      "Requirement already satisfied: contourpy>=1.0.1 in c:\\users\\siddh\\appdata\\local\\programs\\python\\python311\\lib\\site-packages (from matplotlib) (1.3.1)\n",
      "Requirement already satisfied: cycler>=0.10 in c:\\users\\siddh\\appdata\\local\\programs\\python\\python311\\lib\\site-packages (from matplotlib) (0.12.1)\n",
      "Requirement already satisfied: fonttools>=4.22.0 in c:\\users\\siddh\\appdata\\local\\programs\\python\\python311\\lib\\site-packages (from matplotlib) (4.57.0)\n",
      "Requirement already satisfied: kiwisolver>=1.3.1 in c:\\users\\siddh\\appdata\\local\\programs\\python\\python311\\lib\\site-packages (from matplotlib) (1.4.8)\n",
      "Requirement already satisfied: packaging>=20.0 in c:\\users\\siddh\\appdata\\local\\programs\\python\\python311\\lib\\site-packages (from matplotlib) (24.2)\n",
      "Requirement already satisfied: pyparsing>=2.3.1 in c:\\users\\siddh\\appdata\\local\\programs\\python\\python311\\lib\\site-packages (from matplotlib) (3.2.3)\n",
      "Requirement already satisfied: python-dateutil>=2.7 in c:\\users\\siddh\\appdata\\local\\programs\\python\\python311\\lib\\site-packages (from matplotlib) (2.9.0.post0)\n",
      "Requirement already satisfied: six>=1.5 in c:\\users\\siddh\\appdata\\local\\programs\\python\\python311\\lib\\site-packages (from python-dateutil>=2.7->matplotlib) (1.17.0)\n"
     ]
    }
   ],
   "source": [
    "# --- 1. Setup: Install Libraries ---\n",
    "# Run this cell once to install the necessary packages.\n",
    "!pip install imagehash Pillow matplotlib"
   ]
  },
  {
   "cell_type": "code",
   "execution_count": 2,
   "metadata": {},
   "outputs": [],
   "source": [
    "# --- Import Libraries ---\n",
    "import imagehash\n",
    "import os\n",
    "import pickle\n",
    "import random\n",
    "import time\n",
    "from PIL import Image\n",
    "import matplotlib.pyplot as plt\n",
    "\n",
    "# This command makes plots appear directly in the notebook\n",
    "%matplotlib inline"
   ]
  },
  {
   "cell_type": "markdown",
   "metadata": {},
   "source": [
    "## ⚙️ Configuration\n",
    "\n",
    "**IMPORTANT:** Set all your paths and options in the cell below before you begin."
   ]
  },
  {
   "cell_type": "code",
   "execution_count": null,
   "metadata": {},
   "outputs": [],
   "source": [
    "# --- Configuration ---\n",
    "# 1. Path to your HASHED English dump (Set A)\n",
    "set_a_folder = r\"D:\\My Stuff\\My Yu-Gi-Oh\\Card Art Edits\\TF Mod\\TF1\\missinghash\"\n",
    "\n",
    "# 2. Path to your CLEANLY-NAMED Japanese dump (Set C)\n",
    "set_c_folder = r\"D:\\Stuff\\Game Mods\\Yu-Gi-Oh! Tag Force Series\\Tools\\Original Japanese ISO card images\\cardh_j\"\n",
    "\n",
    "# 3. Path where you want the final textures.ini to be saved\n",
    "output_ini_file = r\"D:\\My Stuff\\My Yu-Gi-Oh\\Card Art Edits\\TF Mod\\TF1\\missinghash\\textures.ini\"\n",
    "\n",
    "# 4. How \"similar\" images must be to match (0 is identical, 1-5 is very close).\n",
    "#    Start with 1. If you miss some, try 5.\n",
    "hash_similarity_threshold = 10\n",
    "\n",
    "# 5. Filename for the hash database cache\n",
    "cache_filename = \"hash_database.cache\"\n",
    "\n",
    "# 6. Crop box: (left, upper, right, lower).\n",
    "crop_box = (0, 0, 78, 60)  # Top-left 78x60 pixels\n",
    "# ---------------------"
   ]
  },
  {
   "cell_type": "markdown",
   "metadata": {},
   "source": [
    "## Step 1: Build Hash Database (Set C)\n",
    "\n",
    "This cell defines the helper functions and builds the hash database from your **Set C (Japanese)** images. \n",
    "\n",
    "It will create a `hash_database.cache` file in your Set C folder so that the next time you run it, it will load instantly."
   ]
  },
  {
   "cell_type": "code",
   "execution_count": 4,
   "metadata": {},
   "outputs": [
    {
     "name": "stdout",
     "output_type": "stream",
     "text": [
      "Starting Step 1...\n",
      "--- Phase 1: Building/Loading hash database from D:\\Stuff\\Game Mods\\Yu-Gi-Oh! Tag Force Series\\Tools\\Original Japanese ISO card images\\cardh_j ---\n",
      "  Found cache file! Loading from D:\\Stuff\\Game Mods\\Yu-Gi-Oh! Tag Force Series\\Tools\\Original Japanese ISO card images\\cardh_j\\hash_database.cache...\n",
      "--- Database load complete. Indexed 7233 images from cache. ---\n",
      "Step 1 finished in 0.12 seconds.\n"
     ]
    }
   ],
   "source": [
    "def get_cropped_hash(img_path, crop_box):\n",
    "    \"\"\"Helper function to open, crop (78x60), and hash an image.\"\"\"\n",
    "    with Image.open(img_path) as img:\n",
    "        cropped_img = img.crop(crop_box)\n",
    "        return imagehash.dhash(cropped_img)\n",
    "\n",
    "def build_hash_database(folder_path, crop_box, cache_file_name):\n",
    "    \"\"\"Scans Set C and creates a database of {image_hash: \"clean_filename.png\"}.\"\"\"\n",
    "    print(f\"--- Phase 1: Building/Loading hash database from {folder_path} ---\")\n",
    "    \n",
    "    cache_file_path = os.path.join(folder_path, cache_file_name)\n",
    "    \n",
    "    # --- Caching Logic ---\n",
    "    if os.path.exists(cache_file_path):\n",
    "        try:\n",
    "            print(f\"  Found cache file! Loading from {cache_file_path}...\")\n",
    "            with open(cache_file_path, 'rb') as f:\n",
    "                database = pickle.load(f)\n",
    "            print(f\"--- Database load complete. Indexed {len(database)} images from cache. ---\")\n",
    "            return database\n",
    "        except Exception as e:\n",
    "            print(f\"  Warning: Could not load cache file. Rebuilding. Error: {e}\")\n",
    "\n",
    "    # --- If cache not found or failed, build it ---\n",
    "    print(\"  No valid cache found. Building database from images...\")\n",
    "    database = {}\n",
    "    count = 0\n",
    "    for filename in os.listdir(folder_path):\n",
    "        if filename.endswith(\".png\"):\n",
    "            try:\n",
    "                img_path = os.path.join(folder_path, filename)\n",
    "                img_hash = get_cropped_hash(img_path, crop_box) \n",
    "                database[img_hash] = filename\n",
    "                count += 1\n",
    "                if count % 500 == 0:\n",
    "                    print(f\"  ...indexed {count} images.\")\n",
    "            except Exception as e:\n",
    "                print(f\"  Warning: Could not process {filename}. Error: {e}\")\n",
    "    \n",
    "    # --- Save to cache ---\n",
    "    try:\n",
    "        print(f\"  Saving database to cache file: {cache_file_path}\")\n",
    "        with open(cache_file_path, 'wb') as f:\n",
    "            pickle.dump(database, f)\n",
    "    except Exception as e:\n",
    "        print(f\"  Warning: Could not save cache file. Error: {e}\")\n",
    "\n",
    "    print(f\"--- Database build complete. Indexed {count} images. ---\")\n",
    "    return database\n",
    "\n",
    "# --- Run Step 1 ---\n",
    "print(\"Starting Step 1...\")\n",
    "start_time = time.time()\n",
    "try:\n",
    "    hash_db = build_hash_database(set_c_folder, crop_box, cache_filename)\n",
    "except FileNotFoundError as e:\n",
    "    print(f\"\\n*** FATAL ERROR ***\")\n",
    "    print(f\"Could not find folder: {e.filename}\")\n",
    "    print(\"Please check your 'set_c_folder' path in the Configuration cell.\")\n",
    "    hash_db = None\n",
    "end_time = time.time()\n",
    "print(f\"Step 1 finished in {end_time - start_time:.2f} seconds.\")"
   ]
  },
  {
   "cell_type": "markdown",
   "metadata": {},
   "source": [
    "## Step 2: Find Matches (Set A)\n",
    "\n",
    "This cell scans your **Set A (English Hashed)** images, compares their cropped hashes to the database, and finds all matches. \n",
    "\n",
    "It will store the matches in a list called `all_matches` for visualization and a list called `all_ini_entries` for the final file."
   ]
  },
  {
   "cell_type": "code",
   "execution_count": 5,
   "metadata": {},
   "outputs": [
    {
     "name": "stdout",
     "output_type": "stream",
     "text": [
      "Starting Step 2...\n",
      "--- Phase 2: Matching hashes from D:\\My Stuff\\My Yu-Gi-Oh\\Card Art Edits\\TF Mod\\TF1\\missinghash ---\n",
      "  ...scanned 500 files. Found 209 unique matches.\n",
      "--- Matching complete. ---\n",
      "  Total files in Set A scanned: 606\n",
      "  Total unique matches found:   253\n",
      "Step 2 finished in 6.07 seconds.\n"
     ]
    }
   ],
   "source": [
    "def find_matches(set_a_path, set_c_path, database, threshold, crop_box):\n",
    "    \"\"\"Scans Set A, compares with the database, and returns matches.\"\"\"\n",
    "    print(f\"--- Phase 2: Matching hashes from {set_a_path} ---\")\n",
    "    \n",
    "    # matches: Stores tuples of (hash_filepath, matched_filepath, ini_line)\n",
    "    matches = []\n",
    "    # ini_entries: Stores just the text line to avoid duplicates\n",
    "    ini_entries = set()\n",
    "    \n",
    "    total_files = 0\n",
    "    matches_found = 0\n",
    "    \n",
    "    if not database:\n",
    "        print(\"Error: Hash database is empty. Cannot run matching.\")\n",
    "        return [], []\n",
    "    \n",
    "    for filename_a in os.listdir(set_a_path):\n",
    "        if not filename_a.endswith(\".png\"):\n",
    "            continue\n",
    "            \n",
    "        total_files += 1\n",
    "        try:\n",
    "            img_a_path = os.path.join(set_a_path, filename_a)\n",
    "            hash_a = get_cropped_hash(img_a_path, crop_box)\n",
    "            \n",
    "            best_match_filename = None\n",
    "            \n",
    "            # First, check for a perfect (distance=0) match\n",
    "            if hash_a in database:\n",
    "                best_match_filename = database[hash_a]\n",
    "            \n",
    "            # If no perfect match, check for a \"close enough\" match\n",
    "            elif threshold > 0:\n",
    "                for hash_c, filename_c in database.items():\n",
    "                    distance = hash_a - hash_c\n",
    "                    if distance <= threshold:\n",
    "                        best_match_filename = filename_c\n",
    "                        break # Found a close enough match\n",
    "            \n",
    "            # If we found a match...\n",
    "            if best_match_filename:\n",
    "                ppsspp_hash = os.path.splitext(filename_a)[0]\n",
    "                ini_line = f\"{ppsspp_hash} = {best_match_filename}\"\n",
    "                \n",
    "                # Add to set to prevent duplicate INI entries\n",
    "                if ini_line not in ini_entries:\n",
    "                    ini_entries.add(ini_line)\n",
    "                    \n",
    "                    # Store full paths for visualization\n",
    "                    matched_file_path = os.path.join(set_c_path, best_match_filename)\n",
    "                    matches.append((img_a_path, matched_file_path, ini_line))\n",
    "                    matches_found += 1\n",
    "                \n",
    "            if total_files % 500 == 0:\n",
    "                print(f\"  ...scanned {total_files} files. Found {matches_found} unique matches.\")\n",
    "                \n",
    "        except Exception as e:\n",
    "            print(f\"  Warning: Could not process {filename_a}. Error: {e}\")\n",
    "\n",
    "    print(f\"--- Matching complete. ---\")\n",
    "    print(f\"  Total files in Set A scanned: {total_files}\")\n",
    "    print(f\"  Total unique matches found:   {len(ini_entries)}\")\n",
    "    \n",
    "    return matches, list(ini_entries)\n",
    "\n",
    "# --- Run Step 2 ---\n",
    "print(\"Starting Step 2...\")\n",
    "start_time = time.time()\n",
    "try:\n",
    "    all_matches, all_ini_entries = find_matches(set_a_folder, set_c_folder, hash_db, hash_similarity_threshold, crop_box)\n",
    "except FileNotFoundError as e:\n",
    "    print(f\"\\n*** FATAL ERROR ***\")\n",
    "    print(f\"Could not find folder: {e.filename}\")\n",
    "    print(\"Please check your 'set_a_folder' path in the Configuration cell.\")\n",
    "    all_matches, all_ini_entries = [], []\n",
    "end_time = time.time()\n",
    "print(f\"Step 2 finished in {end_time - start_time:.2f} seconds.\")"
   ]
  },
  {
   "cell_type": "markdown",
   "metadata": {},
   "source": [
    "## Step 3: Visualize & Verify Matches\n",
    "\n",
    "This is the **verification step**. Run the cell below to define the `visualize_match` function. Then, run the cell after that to **see a random matched pair**. \n",
    "\n",
    "You can run the second cell multiple times to spot-check different random matches.\n",
    "\n",
    "**This will show you the cropped 78x60 images that were compared.** If the two images don't look like the same card, your `hash_similarity_threshold` is probably too high! Go back to the Configuration cell, lower it, and re-run Step 2."
   ]
  },
  {
   "cell_type": "code",
   "execution_count": 6,
   "metadata": {},
   "outputs": [
    {
     "name": "stdout",
     "output_type": "stream",
     "text": [
      "Visualization functions defined.\n"
     ]
    }
   ],
   "source": [
    "# --- Define the visualization function ---\n",
    "\n",
    "def visualize_match(match_tuple, crop_box):\n",
    "    \"\"\"Displays a side-by-side comparison of a matched pair (A vs C).\"\"\"\n",
    "    hash_file, matched_file, ini_line = match_tuple\n",
    "    \n",
    "    try:\n",
    "        # Open and crop both images to show exactly what was compared\n",
    "        img_a = Image.open(hash_file).crop(crop_box)\n",
    "        img_c = Image.open(matched_file).crop(crop_box)\n",
    "    except FileNotFoundError as e:\n",
    "        print(f\"Error loading image: {e}\")\n",
    "        return\n",
    "\n",
    "    fig, (ax1, ax2) = plt.subplots(1, 2, figsize=(10, 5))\n",
    "    \n",
    "    ax1.imshow(img_a)\n",
    "    ax1.set_title(f\"Set A (Hashed): {os.path.basename(hash_file)}\")\n",
    "    ax1.axis('off')\n",
    "    \n",
    "    ax2.imshow(img_c)\n",
    "    ax2.set_title(f\"Set C (Matched): {os.path.basename(matched_file)}\")\n",
    "    ax2.axis('off')\n",
    "    \n",
    "    plt.suptitle(f\"Generated INI line: {ini_line}\", y=0.9)\n",
    "    plt.tight_layout()\n",
    "    plt.show()\n",
    "\n",
    "print(\"Visualization functions defined.\")"
   ]
  },
  {
   "cell_type": "code",
   "execution_count": 43,
   "metadata": {},
   "outputs": [
    {
     "name": "stdout",
     "output_type": "stream",
     "text": [
      "Displaying a random match...\n"
     ]
    },
    {
     "data": {
      "image/png": "[encoded data removed]",
      "text/plain": [
       "<Figure size 1000x500 with 2 Axes>"
      ]
     },
     "metadata": {},
     "output_type": "display_data"
    }
   ],
   "source": [
    "# --- Run this cell to see a random match ---\n",
    "# You can run this cell multiple times!\n",
    "\n",
    "if all_matches:\n",
    "    print(\"Displaying a random match...\")\n",
    "    random_match = random.choice(all_matches)\n",
    "    visualize_match(random_match, crop_box)\n",
    "else:\n",
    "    print(\"No matches found to visualize.\")"
   ]
  },
  {
   "cell_type": "code",
   "execution_count": 8,
   "metadata": {},
   "outputs": [],
   "source": [
    "# --- Optional: Visualize a specific match by index ---\n",
    "# (Uncomment the lines below to use)\n",
    "\n",
    "# if all_matches and len(all_matches) > 50:\n",
    "#     print(\"Displaying match at index 50...\")\n",
    "#     visualize_match(all_matches[50], crop_box)\n",
    "# else:\n",
    "#     print(\"Not enough matches to show index 50.\")"
   ]
  },
  {
   "cell_type": "markdown",
   "metadata": {},
   "source": [
    "## Step 4: Write `textures.ini` File\n",
    "\n",
    "Once you are satisfied with the matches you've spot-checked, run this final cell. \n",
    "\n",
    "It will write all the unique INI lines it found into your target `textures.ini` file."
   ]
  },
  {
   "cell_type": "code",
   "execution_count": 9,
   "metadata": {},
   "outputs": [
    {
     "name": "stdout",
     "output_type": "stream",
     "text": [
      "--- Phase 4: Writing 253 entries to D:\\My Stuff\\My Yu-Gi-Oh\\Card Art Edits\\TF Mod\\TF1\\missinghash\\textures.ini ---\n",
      "\n",
      "*** SUCCESS! ***\n",
      "Generated D:\\My Stuff\\My Yu-Gi-Oh\\Card Art Edits\\TF Mod\\TF1\\missinghash\\textures.ini with 253 entries.\n"
     ]
    }
   ],
   "source": [
    "def write_ini_file(output_path, ini_entries):\n",
    "    \"\"\"Writes the final .ini file to disk.\"\"\"\n",
    "    print(f\"--- Phase 4: Writing {len(ini_entries)} entries to {output_path} ---\")\n",
    "    try:\n",
    "        with open(output_path, \"w\") as f:\n",
    "            f.write(\"[hashes]\\n\")\n",
    "            # Sort the entries for a clean file\n",
    "            sorted_entries = sorted(ini_entries)\n",
    "            for line in sorted_entries:\n",
    "                f.write(line + \"\\n\")\n",
    "        print(f\"\\n*** SUCCESS! ***\")\n",
    "        print(f\"Generated {output_path} with {len(ini_entries)} entries.\")\n",
    "    except Exception as e:\n",
    "        print(f\"\\n*** ERROR! ***\")\n",
    "        print(f\"Could not write to {output_path}. Error: {e}\")\n",
    "        print(\"Please check your 'output_ini_file' path in the Configuration cell.\")\n",
    "\n",
    "# --- Run Step 4 ---\n",
    "if all_ini_entries:\n",
    "    write_ini_file(output_ini_file, all_ini_entries)\n",
    "else:\n",
    "    print(\"No INI entries to write. Did the matching step find anything?\")"
   ]
  }
 ],
 "metadata": {
  "kernelspec": {
   "display_name": "Python 3",
   "language": "python",
   "name": "python3"
  },
  "language_info": {
   "codemirror_mode": {
    "name": "ipython",
    "version": 3
   },
   "file_extension": ".py",
   "mimetype": "text/x-python",
   "name": "python",
   "nbconvert_exporter": "python",
   "pygments_lexer": "ipython3",
   "version": "3.11.6"
  }
 },
 "nbformat": 4,
 "nbformat_minor": 2
}
